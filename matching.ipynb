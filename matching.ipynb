{
 "cells": [
  {
   "cell_type": "markdown",
   "metadata": {},
   "source": [
    "# Matching Students to Projects\n",
    "\n",
    "## Constraints\n",
    "\n",
    "We use will use the following strict requirements:\n",
    "- with every project, we associate a minimum and a maximum possible team size\n",
    "- each team must contain at least one data science skilled student\n",
    "- each team must contain at least one project management skilled student\n",
    "\n",
    "We define whether or not a student is data science (resp. project management) skilled based on their data science score. You can set the threshold above which we classify a student as skilled below.\n",
    "\n",
    "We model this problem through a mixed integer linear program. For that, let $S$ be the set of students and $P$ be the set of projects. We define $x_{i, j} = 1$ if student $i \\in S$ is assigned to project $j \\in P$, and $x_{i,j} = 0$, otherwise. Hence, $x \\in \\{0,1\\}^{S \\times R}$ is are the decision variables. We clearly need the constraints:\n",
    "- $\\sum_{j \\in P} x_{i,j} = 1$ for all $i \\in S$, which guarantees that every student is assigned to precisely one project\n",
    "- $\\sum_{i \\in S} x_{i,j} \\leq \\operatorname{MAX\\_TEAM\\_SIZE}$ for all $j \\in P$, which quarantees that every project gets assigned a maximum of $\\operatorname{MAX\\_TEAM\\_SIZE}$ students.\n",
    "- $\\sum_{i \\in S} x_{i,j} \\geq \\operatorname{MIN\\_TEAM\\_SIZE}$ for all $j \\in P$, which quarantees that every project gets assigned a minimum of $\\operatorname{MIN\\_TEAM\\_SIZE}$ students.\n",
    "\n",
    "To model the data science / project management skilled constraints, we define $d_i \\in \\{0,1\\}$ for every $i \\in S$, indicating whether student $i$ is data science skilled (in which case $d_i = 1$) or not (in which case $d_i = 0$). Similarly, we define $p_i \\in \\{0,1\\}$ for every $i \\in S$, indicating whether student $i$ is project management skilled (in which case $p_i = 1$) or not (in which case $p_i = 0$). Note that $d \\in \\{0,1\\}^S$ and $p \\in \\{0,1\\}^S$ can be obtained from the data provided and the thresholds set. We hence impose inequalities:\n",
    "- $\\sum_{i \\in S} x_{i,j} d_i \\geq 1$ for all $j \\in P$\n",
    "- $\\sum_{i \\in S} x_{i,j} p_i \\geq 1$ for all $j \\in P$\n",
    "\n",
    "## Objective\n",
    "\n",
    "The goal is to find a matching such that every student is assigned to the a project they enjoy (based on the ranking provided by the students) and such that the teams are diverse in terms of gender. Hence, the objective consists of 2 parts: priority and gender diversity.\n",
    "\n",
    "### Priority Objective\n",
    "Each student assigned a score from 1 (most desired project) to 6 (least desired project) to every project. Let $c_{i,j}$ be the score student $i \\in S$ assigned to project $j \\in P$. To make the students happy, we hence wish to minimise\n",
    "$$a = \\sum_{i \\in S} \\sum_{j \\in P} c_{i,j} x_{i,j}.$$\n",
    "\n",
    "### Gender Diversity Objective\n",
    "For every project, we define a gender diversity coefficient $g_j$ for each $j \\in P$ which is simply the absolute value of the difference between the number of females and the number of males assigned to each project. Let us define a binary variable $m_i \\in \\{0,1\\}$ for every student $i \\in S$, indicating whether student $i$ is male (then $m_i = 1$) or not (then $m_i = 0$). Then we can compute the gener diversity coefficient as follows:\n",
    "$$g_j = \\left| \\sum_{i \\in S} x_{i,j} m_i - \\sum_{i \\in S} x_{i,j} (1 - m_i) \\right|.$$\n",
    "Note that the minuend is simply the number of males assigned to project $j$ and the subtrahent is the number of females assigned to project $j$.\n",
    "\n",
    "We aim to minimise \n",
    "$$b = \\sum_{j \\in P} g_j.$$\n",
    "\n",
    "> Note: The above expression for $g_j$ is not linear and can hence not be used for our MIP. We hence impose a slightly weaker set of constraints which look as follows: \n",
    "> $$g_j \\geq \\sum_{i \\in S} x_{i,j} m_i - \\sum_{i \\in S} x_{i,j} (1 - m_i)$$\n",
    "> $$g_j \\geq -\\left( \\sum_{i \\in S} x_{i,j} m_i - \\sum_{i \\in S} x_{i,j} (1 - m_i) \\right)$$\n",
    "> But since we minimise the sum of $g_j$, these constraints are equivalent.\n",
    "\n",
    "### The complete Objective\n",
    "We hence aim to minimise the combined objective\n",
    "$$a + b = \\sum_{i \\in S} \\sum_{j \\in P} c_{i,j} x_{i,j} + \\sum_{j \\in P} g_j$$\n"
   ]
  },
  {
   "cell_type": "code",
   "execution_count": 1,
   "metadata": {},
   "outputs": [],
   "source": [
    "import pandas as pd\n",
    "from mip import Model, MINIMIZE, BINARY, CONTINUOUS, xsum"
   ]
  },
  {
   "cell_type": "code",
   "execution_count": 2,
   "metadata": {},
   "outputs": [],
   "source": [
    "#### PARAMETER DEFINITION ####\n",
    "\n",
    "MAX_TEAM_SIZE = 5\n",
    "MIN_TEAM_SIZE = 3\n",
    "DS_SKILLED_THRESHOLD = 4\n",
    "PM_SKILLED_THRESHOLD = 2.5\n",
    "# NOTE: Project names must coincide with the column names in the matching_input.xlsx table\n",
    "PROJECTS = ['Helvetas', 'Rega', 'GIZ I', 'GIZ II', 'MSF', 'IMPACT']"
   ]
  },
  {
   "cell_type": "code",
   "execution_count": 3,
   "metadata": {},
   "outputs": [
    {
     "data": {
      "text/html": [
       "<div>\n",
       "<style scoped>\n",
       "    .dataframe tbody tr th:only-of-type {\n",
       "        vertical-align: middle;\n",
       "    }\n",
       "\n",
       "    .dataframe tbody tr th {\n",
       "        vertical-align: top;\n",
       "    }\n",
       "\n",
       "    .dataframe thead th {\n",
       "        text-align: right;\n",
       "    }\n",
       "</style>\n",
       "<table border=\"1\" class=\"dataframe\">\n",
       "  <thead>\n",
       "    <tr style=\"text-align: right;\">\n",
       "      <th></th>\n",
       "      <th>ID</th>\n",
       "      <th>ds_skill</th>\n",
       "      <th>pm_skill</th>\n",
       "      <th>nationality</th>\n",
       "      <th>gender</th>\n",
       "      <th>Helvetas</th>\n",
       "      <th>Rega</th>\n",
       "      <th>GIZ I</th>\n",
       "      <th>GIZ II</th>\n",
       "      <th>MSF</th>\n",
       "      <th>IMPACT</th>\n",
       "      <th>data_science_skilled</th>\n",
       "      <th>project_management_skilled</th>\n",
       "      <th>is_male</th>\n",
       "    </tr>\n",
       "  </thead>\n",
       "  <tbody>\n",
       "    <tr>\n",
       "      <th>0</th>\n",
       "      <td>16</td>\n",
       "      <td>4.666667</td>\n",
       "      <td>3.00</td>\n",
       "      <td>French</td>\n",
       "      <td>Male</td>\n",
       "      <td>3</td>\n",
       "      <td>4</td>\n",
       "      <td>3</td>\n",
       "      <td>4</td>\n",
       "      <td>6</td>\n",
       "      <td>5</td>\n",
       "      <td>1</td>\n",
       "      <td>1</td>\n",
       "      <td>1</td>\n",
       "    </tr>\n",
       "    <tr>\n",
       "      <th>1</th>\n",
       "      <td>38</td>\n",
       "      <td>4.250000</td>\n",
       "      <td>2.75</td>\n",
       "      <td>Indian</td>\n",
       "      <td>Male</td>\n",
       "      <td>1</td>\n",
       "      <td>5</td>\n",
       "      <td>6</td>\n",
       "      <td>3</td>\n",
       "      <td>4</td>\n",
       "      <td>2</td>\n",
       "      <td>1</td>\n",
       "      <td>1</td>\n",
       "      <td>1</td>\n",
       "    </tr>\n",
       "    <tr>\n",
       "      <th>2</th>\n",
       "      <td>27</td>\n",
       "      <td>4.333333</td>\n",
       "      <td>3.00</td>\n",
       "      <td>Italy</td>\n",
       "      <td>Male</td>\n",
       "      <td>3</td>\n",
       "      <td>1</td>\n",
       "      <td>3</td>\n",
       "      <td>3</td>\n",
       "      <td>1</td>\n",
       "      <td>2</td>\n",
       "      <td>1</td>\n",
       "      <td>1</td>\n",
       "      <td>1</td>\n",
       "    </tr>\n",
       "  </tbody>\n",
       "</table>\n",
       "</div>"
      ],
      "text/plain": [
       "   ID  ds_skill  pm_skill nationality gender  Helvetas  Rega  GIZ I  GIZ II  \\\n",
       "0  16  4.666667      3.00      French   Male         3     4      3       4   \n",
       "1  38  4.250000      2.75      Indian   Male         1     5      6       3   \n",
       "2  27  4.333333      3.00       Italy   Male         3     1      3       3   \n",
       "\n",
       "   MSF  IMPACT  data_science_skilled  project_management_skilled  is_male  \n",
       "0    6       5                     1                           1        1  \n",
       "1    4       2                     1                           1        1  \n",
       "2    1       2                     1                           1        1  "
      ]
     },
     "execution_count": 3,
     "metadata": {},
     "output_type": "execute_result"
    }
   ],
   "source": [
    "#### DATA PREPARATION ####\n",
    "\n",
    "# read data\n",
    "students = pd.read_excel('matching_input.xlsx')\n",
    "\n",
    "# decide whether students are data science / project management skilled (based on thresholds)\n",
    "students['data_science_skilled'] = 0\n",
    "students.loc[students['ds_skill'] >= DS_SKILLED_THRESHOLD, 'data_science_skilled'] = 1\n",
    "students['project_management_skilled'] = 0\n",
    "students.loc[students['pm_skill'] >= PM_SKILLED_THRESHOLD, 'project_management_skilled'] = 1\n",
    "\n",
    "# create column is_male\n",
    "students['is_male'] = 0\n",
    "students.loc[students['gender'] == 'Male', 'is_male'] = 1\n",
    "\n",
    "# calculate number of students\n",
    "number_students = students.shape[0]\n",
    "\n",
    "students.head(3)"
   ]
  },
  {
   "cell_type": "code",
   "execution_count": 4,
   "metadata": {},
   "outputs": [],
   "source": [
    "#### SET UP MODEL ####\n",
    "\n",
    "m = Model(name=\"matching_ip\", sense=MINIMIZE)"
   ]
  },
  {
   "cell_type": "code",
   "execution_count": 5,
   "metadata": {},
   "outputs": [],
   "source": [
    "#### DECLARE DECISION VARIABLES ####\n",
    "\n",
    "# set up assignment variables, where \n",
    "# x[i][p] = 1 if student i is assigned to project p\n",
    "# x[i][p] = 0 if student i is not assigned to project p\n",
    "x = {}\n",
    "for i in range(number_students):\n",
    "    x[i] = {p: m.add_var(f'x_{i}_{p}', var_type=BINARY) for p in PROJECTS}\n",
    "\n",
    "# set up diversity coefficient for each project\n",
    "gender_diversity = {project: m.add_var(f'gd_{project}', lb=0, var_type=CONTINUOUS) for project in PROJECTS}"
   ]
  },
  {
   "cell_type": "code",
   "execution_count": 6,
   "metadata": {},
   "outputs": [],
   "source": [
    "#### IMPOSE STRICT REQUIREMENTS ####\n",
    "\n",
    "# every student is assigned to precisely one project\n",
    "for i in range(number_students):\n",
    "    m += xsum(x[i][project] for project in PROJECTS) == 1\n",
    "\n",
    "for project in PROJECTS:\n",
    "    # each project gets assigned at least MIN_TEAM_SIZE students\n",
    "    m += xsum(x[i][project] for i in range(number_students)) >= MIN_TEAM_SIZE\n",
    "\n",
    "    # each project gets assigned at most MAX_TEAM_SIZE students\n",
    "    m += xsum(x[i][project] for i in range(number_students)) <= MAX_TEAM_SIZE\n",
    "\n",
    "    # each project must have at least one data science skilled student\n",
    "    m += xsum(students.loc[i, 'data_science_skilled'] * x[i][project] for i in range(number_students)) >= 1\n",
    "\n",
    "    # each project must have at least one project management skilled student\n",
    "    m += xsum(students.loc[i, 'project_management_skilled'] * x[i][project] for i in range(number_students)) >= 1"
   ]
  },
  {
   "cell_type": "code",
   "execution_count": 7,
   "metadata": {},
   "outputs": [],
   "source": [
    "#### IMPOSE OBJECTIVE FUNCTION ####\n",
    "\n",
    "# this part of the objective function makes sure students get assigned to a project they like\n",
    "priority_objective_function = xsum(\n",
    "    students.iloc[i][project]*x[i][project] for i in range(number_students) for project in PROJECTS\n",
    ")\n",
    "\n",
    "# calculate the gender diversity coefficient for every project\n",
    "for project in PROJECTS:\n",
    "    number_of_males = xsum(x[i][project] * students.loc[i, 'is_male'] for i in range(number_students))\n",
    "    number_of_females = xsum(x[i][project] * (1-students.loc[i, 'is_male']) for i in range(number_students))\n",
    "    gender_diversity[project] >=  number_of_males - number_of_females\n",
    "    gender_diversity[project] >=  - number_of_males + number_of_females\n",
    "\n",
    "\n",
    "# this part of the objective function makes sure that we favour gender-diverse teams\n",
    "gender_diversity_objective_function = xsum(\n",
    "    gender_diversity[project] for project in PROJECTS\n",
    ")\n",
    "\n",
    "\n",
    "m += priority_objective_function + gender_diversity_objective_function"
   ]
  },
  {
   "cell_type": "code",
   "execution_count": 8,
   "metadata": {},
   "outputs": [
    {
     "data": {
      "text/plain": [
       "<OptimizationStatus.OPTIMAL: 0>"
      ]
     },
     "execution_count": 8,
     "metadata": {},
     "output_type": "execute_result"
    }
   ],
   "source": [
    "#### SOLVE THE MIP ####\n",
    "\n",
    "m.optimize()"
   ]
  },
  {
   "cell_type": "code",
   "execution_count": 9,
   "metadata": {},
   "outputs": [],
   "source": [
    "#### WRITE OUTPUT ####\n",
    "\n",
    "# write assigned project in a new column in the dataframe\n",
    "students['assigned_project'] = ''\n",
    "for i in range(number_students):\n",
    "    for project in PROJECTS:\n",
    "        if x[i][project].x == 1:\n",
    "            students.loc[i, 'assigned_project'] = project\n",
    "\n",
    "# export to Excel\n",
    "students.to_excel('matching_output.xlsx')"
   ]
  }
 ],
 "metadata": {
  "kernelspec": {
   "display_name": "Python 3.8.5 ('venv': venv)",
   "language": "python",
   "name": "python3"
  },
  "language_info": {
   "codemirror_mode": {
    "name": "ipython",
    "version": 3
   },
   "file_extension": ".py",
   "mimetype": "text/x-python",
   "name": "python",
   "nbconvert_exporter": "python",
   "pygments_lexer": "ipython3",
   "version": "3.8.5"
  },
  "orig_nbformat": 4,
  "vscode": {
   "interpreter": {
    "hash": "343419dbc556672158d012721c8f6091d24d76517772917db9e771c45e37bf24"
   }
  }
 },
 "nbformat": 4,
 "nbformat_minor": 2
}
